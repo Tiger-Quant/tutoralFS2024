{
 "cells": [
  {
   "cell_type": "markdown",
   "metadata": {},
   "source": [
    "Following IMC Prosperity's Python Tutorials..."
   ]
  },
  {
   "cell_type": "markdown",
   "metadata": {},
   "source": [
    "**Terry's Bananas**\n",
    "\n",
    "\n",
    "Trader Terry is buying bananas at the markets for from some different vendors. Terry thinks a banana is really worht 10 dollars and classifies the price at the different markets into 4 categories:\n",
    "\n",
    "* If the price is less than 10 dollars: `Good`\n",
    "* If the price is less than 6 dollars: `Really Good!`\n",
    "* If the price is 10 dollars or more: `Bad`\n",
    "* If the price is more than 14 dollars: `Really Bad!`\n",
    "\n",
    "Write some python code to help Terry classify a given banana price. Your code should print out the category (and only one category!)"
   ]
  },
  {
   "cell_type": "code",
   "execution_count": 7,
   "metadata": {},
   "outputs": [
    {
     "name": "stdout",
     "output_type": "stream",
     "text": [
      "Good\n"
     ]
    }
   ],
   "source": [
    "price = 8\n",
    "\n",
    "if (price < 6):\n",
    "    print(\"Really Good!\")\n",
    "elif (price < 10):\n",
    "    print(\"Good\")\n",
    "elif (price > 14):\n",
    "    print(\"Really Bad!\")\n",
    "else:\n",
    "    print(\"Bad\")"
   ]
  },
  {
   "cell_type": "markdown",
   "metadata": {},
   "source": [
    "After getting scammed by a vendor who only sold bananas at odd prices, Terry has become jaded and suspicious. He will now only consider a price to be `Really Good!` if it also an even number, otherwise he considers it simply `Good`. Similarly, he will also consider odd prices greater than 10 to always be `Really Bad!`. Copy your code from above into the cell below and modify it to help out suspicious Terry."
   ]
  },
  {
   "cell_type": "code",
   "execution_count": 17,
   "metadata": {},
   "outputs": [
    {
     "name": "stdout",
     "output_type": "stream",
     "text": [
      "Really Good!\n"
     ]
    }
   ],
   "source": [
    "price = 4\n",
    "\n",
    "if (price < 6):\n",
    "    if (price % 2 != 0):\n",
    "        print(\"Good\")\n",
    "    else:\n",
    "        print(\"Really Good!\")\n",
    "elif (price < 10):\n",
    "    print(\"Good\")\n",
    "elif (price > 14):\n",
    "    print(\"Really Bad!\")\n",
    "else:\n",
    "    if (price % 2 == 0):\n",
    "        print(\"Bad\")\n",
    "    else:\n",
    "        print(\"Really Bad!\")"
   ]
  },
  {
   "cell_type": "markdown",
   "metadata": {},
   "source": [
    "**Terry's Bananas - The Repricening**\n",
    "\n",
    "Trader Terry has been working on his pricing algorithm and is back to buy some more bananas. He's simplified his pricing down to 3 categories:\n",
    "\n",
    "* If the price is less than 8 dollars: `Good!`\n",
    "* If the price is more than 12 dollars: `Bad`\n",
    "* Otherwise: `Ok`\n",
    "\n",
    "Write a python function called `classify_price` that accepts one argument (the price of the bananas) and returns the appropriate `str` classification."
   ]
  },
  {
   "cell_type": "code",
   "execution_count": 21,
   "metadata": {},
   "outputs": [
    {
     "data": {
      "text/plain": [
       "'Ok'"
      ]
     },
     "execution_count": 21,
     "metadata": {},
     "output_type": "execute_result"
    }
   ],
   "source": [
    "# Write your function here\n",
    "def classify_price(price):\n",
    "    if (price < 8):\n",
    "        return \"Good!\"\n",
    "    elif (price > 12):\n",
    "        return \"Bad\"\n",
    "    else:\n",
    "        return \"Ok\"\n",
    "\n",
    "# Test your function with these!\n",
    "# classify_price(7)\n",
    "classify_price(9)\n",
    "# classify_price(14)"
   ]
  },
  {
   "cell_type": "markdown",
   "metadata": {},
   "source": [
    "Terry has discovered that sometimes he occasionally wants to price bananas with different good and bad price levels (instead of 8 and 12). Modify your function so that you can set different price thresholds but by default, it uses 8 and 12 as the thresholds."
   ]
  },
  {
   "cell_type": "code",
   "execution_count": 26,
   "metadata": {},
   "outputs": [
    {
     "data": {
      "text/plain": [
       "'Good!'"
      ]
     },
     "execution_count": 26,
     "metadata": {},
     "output_type": "execute_result"
    }
   ],
   "source": [
    "def classify_price(price, low=8, high=12):\n",
    "    if (price < low):\n",
    "        return \"Good!\"\n",
    "    elif (price > high):\n",
    "        return \"Bad\"\n",
    "    else:\n",
    "        return \"Ok\"\n",
    "\n",
    "# classify_price(55, 6, 20)\n",
    "classify_price(6)"
   ]
  },
  {
   "cell_type": "markdown",
   "metadata": {},
   "source": [
    "Terry has received a tip that the vendor selling bananas for 4 dollars at the market today is trying to get rid of his illegally imported, contraband bananas. Terry, wanting no part in these shenanigans, considers this to be `Really Bad!` for his trading.\n",
    "\n",
    "Write a new function which follows the same rules as `classify_price`, but for a price of 4 dollars returns the `str` `Really Bad!`."
   ]
  },
  {
   "cell_type": "code",
   "execution_count": 29,
   "metadata": {},
   "outputs": [
    {
     "data": {
      "text/plain": [
       "'Really Bad!'"
      ]
     },
     "execution_count": 29,
     "metadata": {},
     "output_type": "execute_result"
    }
   ],
   "source": [
    "def classify_price_shenanigans(price, low=8, high=12):\n",
    "    if (price == 4):\n",
    "        return \"Really Bad!\"\n",
    "    \n",
    "    if (price < low):\n",
    "        return \"Good!\"\n",
    "    elif (price > high):\n",
    "        return \"Bad\"\n",
    "    else:\n",
    "        return \"Ok\"\n",
    "\n",
    "classify_price_shenanigans(4)"
   ]
  },
  {
   "cell_type": "markdown",
   "metadata": {},
   "source": [
    "**Terry Stacking**\n",
    "\n",
    "Through his successful trading scheme, Terry now owns many crates of bananas. Due to the peculiar shape of his warehouse, Terry must stack the crates in triangular stacks - with each row containing one less crate than the row below it. For example, if Terry starts his stack with a row of 4 crates, he must then put 3 crates on top of that, then 2, then 1, for a total of 4 + 3 + 2 + 1 = 10 crates.\n",
    "\n",
    "Write a function `stack_total` which takes a singular argument, the number of crates in the bottom row, and calculates the total number of crates in a given Terry-triangle-stack."
   ]
  },
  {
   "cell_type": "code",
   "execution_count": 36,
   "metadata": {},
   "outputs": [
    {
     "data": {
      "text/plain": [
       "21"
      ]
     },
     "execution_count": 36,
     "metadata": {},
     "output_type": "execute_result"
    }
   ],
   "source": [
    "# Write code here\n",
    "def stack_total(numCrates):\n",
    "    \n",
    "    total = 0\n",
    "    for i in range(numCrates):\n",
    "        total += numCrates\n",
    "        numCrates = numCrates - 1\n",
    "\n",
    "    return total\n",
    "\n",
    "# Another implementation with a while loop instead of a for loop\n",
    "# def stack_total(numCrates):\n",
    "#     total = 0\n",
    "#     while (numCrates != 0):\n",
    "#         total += numCrates\n",
    "#         numCrates = numCrates - 1\n",
    "\n",
    "#     return total\n",
    "\n",
    "# stack_total(4) = 4+3+2+1 = 10\n",
    "# stack_total(6) = 6+5+4+3+2+1 = 21\n",
    "stack_total(6)"
   ]
  },
  {
   "cell_type": "markdown",
   "metadata": {},
   "source": [
    "**Big Crates, Big Bunches**\n",
    "\n",
    "Terry has decided to invest in some bigger crates which can fit multiple bunches of bananas of any size. In his haste to pack all of his banana bunches into these new crates, however, Terry forgot to count his overall total number of bananas. What he does have, is a list of his crates which contain lists of the size of each banana bunch they contain.\n",
    "\n",
    "Write a function `count_bananas` which takes a single list argument. Each element in this list is a list of integers, representing a create and the bunches of bananas within it. The function should return the total sum of all integers."
   ]
  },
  {
   "cell_type": "code",
   "execution_count": 32,
   "metadata": {},
   "outputs": [
    {
     "data": {
      "text/plain": [
       "285"
      ]
     },
     "execution_count": 32,
     "metadata": {},
     "output_type": "execute_result"
    }
   ],
   "source": [
    "# write code here\n",
    "def count_bananas(crates):\n",
    "    \n",
    "    total = 0\n",
    "    for crate in crates:\n",
    "        for bunch in crate:\n",
    "            total += bunch\n",
    "\n",
    "    return total\n",
    "\n",
    "count_bananas([[25, 25, 25, 25], [40, 45, 10], [90]])"
   ]
  },
  {
   "cell_type": "markdown",
   "metadata": {},
   "source": [
    "Terry is also interested in knowing the biggest banana bunch he currently has in his crates. Create a modified version of your previous function `biggest_bunch` which takes the same input but instead returns the size of the biggest banana bunch."
   ]
  },
  {
   "cell_type": "code",
   "execution_count": 33,
   "metadata": {},
   "outputs": [
    {
     "data": {
      "text/plain": [
       "90"
      ]
     },
     "execution_count": 33,
     "metadata": {},
     "output_type": "execute_result"
    }
   ],
   "source": [
    "def biggest_bunch(crates):\n",
    "    biggest = 0\n",
    "    for crate in crates:\n",
    "        for bunch in crate:\n",
    "            if (bunch > biggest):\n",
    "                biggest = bunch\n",
    "    \n",
    "    return biggest\n",
    "\n",
    "biggest_bunch([[25, 25, 25, 25], [40, 45, 10], [90]])"
   ]
  },
  {
   "cell_type": "markdown",
   "metadata": {},
   "source": [
    "**Widening the Nets**\n",
    "\n",
    "Emboldened by his bananas trading success, Terry has decided to expand his empire to other produce at the markets. He now keeps a note on him which contains his estimation of what each product is worth. If he can buy a product for cheaper than his estimated price, he will. If he doesn't have an estimation for a product, he will never but it.\n",
    "\n",
    "Write a function `should_buy` which accepts three arguments:\n",
    "* `product`: The name of the product (str)\n",
    "* `price`: The price of the product at the market (int)\n",
    "* `valuations`: A dictionary of product to estimated price (str -> int)\n",
    "\n",
    "And returns True/False whether Terry should buy the product."
   ]
  },
  {
   "cell_type": "code",
   "execution_count": 42,
   "metadata": {},
   "outputs": [
    {
     "data": {
      "text/plain": [
       "True"
      ]
     },
     "execution_count": 42,
     "metadata": {},
     "output_type": "execute_result"
    }
   ],
   "source": [
    "# write your code here\n",
    "def should_buy(product, price, valuations):\n",
    "    if (product not in valuations):\n",
    "        return False\n",
    "    else:\n",
    "        terrys_price = valuations[product]\n",
    "\n",
    "    if (price < terrys_price):\n",
    "        return True\n",
    "\n",
    "    return False\n",
    "\n",
    "valuations = {'banana': 8, 'shell': 4, 'coconut': 13}\n",
    "\n",
    "# should_buy('banana', 7, valuations) >> True\n",
    "# should_buy('shell', 6, valuations) >> False\n",
    "# should_buy('plum', 3, valuations) >> False\n",
    "\n",
    "should_buy('shell', 2, valuations)"
   ]
  },
  {
   "cell_type": "markdown",
   "metadata": {},
   "source": [
    "Despite his best efforts to stick to his conservative trading scheme, Terry is dazzled by a mysterious vendor and persuaded to buy a mystery box containing a number of mixed products. After his shameful moment of weakness, he is still keen to know the total value of each product he bought.\n",
    "\n",
    "Write a function `mystery_box_value` which takes in 2 dictionaries:\n",
    "* `products`: A dictionary of product to number of stock (str -> int)\n",
    "* `valuations`: A dictionary of product to estimated value (str -> int)\n",
    "\n",
    "The function should return a new dictionary, mapping each product to the total value of all stock for that product, based on Terry's valuation."
   ]
  },
  {
   "cell_type": "code",
   "execution_count": 43,
   "metadata": {},
   "outputs": [
    {
     "data": {
      "text/plain": [
       "{'banana': 1600, 'shell': 1200, 'coconut': 1300}"
      ]
     },
     "execution_count": 43,
     "metadata": {},
     "output_type": "execute_result"
    }
   ],
   "source": [
    "# write your code here\n",
    "def mystery_box_value(products, valuations):\n",
    "    \n",
    "    output = {}\n",
    "    \n",
    "    for product in products:\n",
    "        if (product in valuations):\n",
    "            output[product] = valuations[product] * products[product]\n",
    "    \n",
    "    return output\n",
    "\n",
    "\n",
    "products = {'banana': 200, 'shell': 300, 'coconut': 100}\n",
    "valuations = {'banana': 8, 'shell': 4, 'coconut': 13}\n",
    "\n",
    "mystery_box_value(products, valuations)\n",
    "# >>> {'banana': 1600, 'shell': 1200, 'coconut': 1300}"
   ]
  },
  {
   "cell_type": "markdown",
   "metadata": {},
   "source": [
    "**Terry Keeps it Classy**\n",
    "\n",
    "With the vast amount of product Terry is trading his old system of pen and paper is simply not cutting it anymore. Terry has deccided he needs a full on Python `TradeTracker` to track his trades.\n",
    "\n",
    "Write a simple `Trade` class for Terry. It should have 2 integer attributes: the `price` the trade was made at, and `volume` - how many unites Terry traded. If the volume is positive, the trade was a `buy`, if the volume was negative, the trade was a `sell`. The `Trade` class should also have a `is_buy` method which tells Terry `True/False` if the `Trade` was a buy."
   ]
  },
  {
   "cell_type": "code",
   "execution_count": 46,
   "metadata": {},
   "outputs": [
    {
     "data": {
      "text/plain": [
       "True"
      ]
     },
     "execution_count": 46,
     "metadata": {},
     "output_type": "execute_result"
    }
   ],
   "source": [
    "# write your code here\n",
    "class Trade:\n",
    "    def __init__(self, price, volume):\n",
    "        self.price = price\n",
    "        self.volume = volume\n",
    "    \n",
    "    def is_buy(self):\n",
    "        if (self.volume <= 0):\n",
    "            return False\n",
    "\n",
    "        return True\n",
    "\n",
    "trade = Trade(4, 2)\n",
    "# trade.is_buy() >>> True\n",
    "trade.is_buy()"
   ]
  },
  {
   "cell_type": "markdown",
   "metadata": {},
   "source": [
    "Terry is finding it difficult to read his current `Trade` object, and would like it to display in a nicer format that includes the `volume` and the `price` of the trade. If Terry makes a trade for 10 units at 4 dollars, his trade should look like: `Trade(10 @ $4)`. Modify the `Trade` class to match the display."
   ]
  },
  {
   "cell_type": "code",
   "execution_count": 58,
   "metadata": {},
   "outputs": [
    {
     "name": "stdout",
     "output_type": "stream",
     "text": [
      "Trade(-6 @ $4)\n"
     ]
    },
    {
     "data": {
      "text/plain": [
       "False"
      ]
     },
     "execution_count": 58,
     "metadata": {},
     "output_type": "execute_result"
    }
   ],
   "source": [
    "class Trade:\n",
    "    def __init__(self, price, volume):\n",
    "        self.price = price\n",
    "        self.volume = volume\n",
    "    \n",
    "    def is_buy(self):\n",
    "        if (self.volume <= 0):\n",
    "            return False\n",
    "\n",
    "        return True\n",
    "\n",
    "    def __repr__(self) -> str:\n",
    "        return f\"Trade({self.volume} @ ${self.price})\"\n",
    "\n",
    "trade = Trade(4, -6)\n",
    "print(trade)\n",
    "trade.is_buy()"
   ]
  },
  {
   "cell_type": "markdown",
   "metadata": {},
   "source": [
    "We now need to make Terry's master `TradeTracker` class. A `TradeTracker` will have to keep track of each `Trade` that Terry inputs into it. It should have the following methods (at least):\n",
    "\n",
    "* `add_trade` which takes a `Trade` object and stores it in the tracker\n",
    "* `get_buy_trades` which returns a `List` of all stored `buy` trades\n",
    "* `get_average_traded_price` which returns the average price of all stored trades"
   ]
  },
  {
   "cell_type": "code",
   "execution_count": 61,
   "metadata": {},
   "outputs": [
    {
     "data": {
      "text/plain": [
       "8.5"
      ]
     },
     "execution_count": 61,
     "metadata": {},
     "output_type": "execute_result"
    }
   ],
   "source": [
    "# write your code here\n",
    "class TradeTracker:\n",
    "    def __init__(self):\n",
    "        self.trades = []\n",
    "\n",
    "    def add_trade(self, trade: Trade):\n",
    "        self.trades.append(trade)\n",
    "\n",
    "    def get_buy_trades(self):\n",
    "        buys = []\n",
    "        for trade in self.trades:\n",
    "            if (trade.is_buy()):\n",
    "                buys.append(trade)\n",
    "        \n",
    "        return buys\n",
    "\n",
    "    def get_average_traded_price(self):\n",
    "        total = 0\n",
    "        for trade in self.trades:\n",
    "            total += trade.price\n",
    "        \n",
    "        return total / len(self.trades)\n",
    "\n",
    "\n",
    "tracker = TradeTracker()\n",
    "tracker.add_trade(Trade(7, 4))\n",
    "tracker.add_trade(Trade(10, -3))\n",
    "# tracker.get_buy_trades() >>> [Trade(4 @ $7)]\n",
    "# tracker.get_average_traded_price() >>> 8.5\n",
    "tracker.get_buy_trades()\n",
    "tracker.get_average_traded_price()"
   ]
  },
  {
   "cell_type": "markdown",
   "metadata": {},
   "source": [
    "# Libraries\n",
    "\n",
    "Python has libraries, which are collections of functions and tools created by others, to help automate tasks.\n",
    "\n",
    "**Scenario:** Terry has learned some Python but now needs help to handle more complex data for his trading operations.\n",
    "\n",
    "Write a Python script that:\n",
    "\n",
    "* Imports the math library.\n",
    "* Uses the sqrt function to calculate the square root of a given number.\n",
    "* Imports the datetime library and prints the current date and time."
   ]
  },
  {
   "cell_type": "code",
   "execution_count": 3,
   "metadata": {},
   "outputs": [
    {
     "name": "stdout",
     "output_type": "stream",
     "text": [
      "4.0\n",
      "2024-10-21 12:55:59.834391\n"
     ]
    }
   ],
   "source": [
    "import math\n",
    "\n",
    "num = 16\n",
    "print(math.sqrt(num))\n",
    "\n",
    "import datetime\n",
    "print(datetime.datetime.now())"
   ]
  },
  {
   "cell_type": "markdown",
   "metadata": {},
   "source": [
    "## Pandas!\n",
    "\n",
    "**pandas** is a fast, powerful, flexible and easy to use open source data analysis and manipulation tool,\n",
    "built on top of the Python programming language.\n",
    "\n",
    "**Exercise 1: Creating a DataFrame**\n",
    "\n",
    "Terry just received a shipment report from a banana supplier. The report contains the following information: date of delivery, number of bananas, and the price per banana. Create a pandas DataFrame to represent this data. Make up your own data to include in the report... the point is just to print out a working DataFrame!"
   ]
  },
  {
   "cell_type": "code",
   "execution_count": 5,
   "metadata": {},
   "outputs": [
    {
     "name": "stdout",
     "output_type": "stream",
     "text": [
      "         Date  Bananas  Price\n",
      "0  2024-10-01      500   0.50\n",
      "1  2024-10-02      600   0.55\n",
      "2  2024-10-03      700   0.62\n"
     ]
    }
   ],
   "source": [
    "import pandas as pd\n",
    "\n",
    "data = {\n",
    "    \"Date\": [\"2024-10-01\", \"2024-10-02\", \"2024-10-03\"],\n",
    "    \"Bananas\": [500, 600, 700],\n",
    "    \"Price\" : [.5, .55, .62]\n",
    "}\n",
    "\n",
    "df = pd.DataFrame(data)\n",
    "print(df)"
   ]
  },
  {
   "cell_type": "markdown",
   "metadata": {},
   "source": [
    "**Exercise 2: Selecting Data**\n",
    "\n",
    "Terry only wants to know how many bananas were delivered on 2024-10-02. Help him extract this information."
   ]
  },
  {
   "cell_type": "code",
   "execution_count": 8,
   "metadata": {},
   "outputs": [
    {
     "name": "stdout",
     "output_type": "stream",
     "text": [
      "1    600\n",
      "Name: Bananas, dtype: int64\n"
     ]
    }
   ],
   "source": [
    "interested_data = df[df[\"Date\"] == '2024-10-02']\n",
    "print(interested_data['Bananas'])"
   ]
  },
  {
   "cell_type": "markdown",
   "metadata": {},
   "source": [
    "**Exercise 3: Cleaning Data**\n",
    "\n",
    "Terry’s report had some missing or incorrect entries. Replace missing values with reasonable defaults and remove rows with negative banana counts."
   ]
  },
  {
   "cell_type": "code",
   "execution_count": 9,
   "metadata": {},
   "outputs": [
    {
     "name": "stdout",
     "output_type": "stream",
     "text": [
      "         Date  Bananas  Price\n",
      "0  2024-10-01    500.0   0.50\n",
      "1  2024-10-02    600.0   0.55\n",
      "2  2024-10-03      0.0   0.52\n"
     ]
    }
   ],
   "source": [
    "data_with_missing = {\n",
    "    'Date': ['2024-10-01', '2024-10-02', '2024-10-03', '2024-10-04'],\n",
    "    'Bananas': [500, 600, None, -50],\n",
    "    'Price': [0.5, 0.55, 0.52, 0.45]\n",
    "}\n",
    "\n",
    "df_with_missing = pd.DataFrame(data_with_missing)\n",
    "\n",
    "# Fill missing values and remove negative rows\n",
    "df_cleaned = df_with_missing.fillna(0)\n",
    "df_cleaned = df_cleaned[df_cleaned['Bananas'] >= 0]\n",
    "print(df_cleaned)"
   ]
  },
  {
   "cell_type": "markdown",
   "metadata": {},
   "source": [
    "There are many scenarios where removing rows with any NULL information would be a bad idea. This exercise just shows one way to deal with bad data.\n",
    "\n",
    "**Exercise 4: Aggregating Data**\n",
    "\n",
    "By “group by” we are referring to a process involving one or more of the following steps:\n",
    "\n",
    "* Splitting the data into groups based on some criteria\n",
    "* Applying a function to each group independently\n",
    "* Combining the results into a data structure\n",
    "\n",
    "Terry wants to know the total number of bananas delivered for each price level. Help him by grouping the data by price and summing the banana counts."
   ]
  },
  {
   "cell_type": "code",
   "execution_count": 17,
   "metadata": {},
   "outputs": [
    {
     "name": "stdout",
     "output_type": "stream",
     "text": [
      "Price\n",
      "0.50    500\n",
      "0.55    600\n",
      "0.62    700\n",
      "Name: Bananas, dtype: int64\n"
     ]
    }
   ],
   "source": [
    "grouped_data = df.groupby(\"Price\")[\"Bananas\"].sum()\n",
    "print(grouped_data)"
   ]
  },
  {
   "cell_type": "markdown",
   "metadata": {},
   "source": [
    "**Exercise 5: Merging Supplier Data**\n",
    "\n",
    "Terry is working with two suppliers. You have data from both suppliers, but they are in different DataFrames. Merge them to get a full picture."
   ]
  },
  {
   "cell_type": "code",
   "execution_count": 18,
   "metadata": {},
   "outputs": [
    {
     "name": "stdout",
     "output_type": "stream",
     "text": [
      "         Date  Bananas_A  Bananas_B\n",
      "0  2024-10-01        500        200\n",
      "1  2024-10-02        600        300\n",
      "2  2024-10-03        700        400\n"
     ]
    }
   ],
   "source": [
    "supplier_a = pd.DataFrame({\n",
    "    'Date': ['2024-10-01', '2024-10-02', '2024-10-03'],\n",
    "    'Bananas': [500, 600, 700]\n",
    "})\n",
    "\n",
    "supplier_b = pd.DataFrame({\n",
    "    'Date': ['2024-10-01', '2024-10-02', '2024-10-03'],\n",
    "    'Bananas': [200, 300, 400]\n",
    "})\n",
    "\n",
    "# Merge the two DataFrames on 'Date'\n",
    "merged_data = pd.merge(supplier_a, supplier_b, on='Date', suffixes=('_A', '_B'))\n",
    "print(merged_data)"
   ]
  },
  {
   "cell_type": "markdown",
   "metadata": {},
   "source": [
    "**Exercise 6: Visualizing Banana Prices**\n",
    "\n",
    "Create a line plot to visualize how the price of bananas changed over time.\n",
    "\n",
    "Hint: Use `matplotlib` to create a plot using your dataframe!"
   ]
  },
  {
   "cell_type": "code",
   "execution_count": 19,
   "metadata": {},
   "outputs": [
    {
     "data": {
      "image/png": "[encoded data removed]",
      "text/plain": [
       "<Figure size 640x480 with 1 Axes>"
      ]
     },
     "metadata": {},
     "output_type": "display_data"
    }
   ],
   "source": [
    "import matplotlib.pyplot as plt\n",
    "\n",
    "# Plot the 'Price' column\n",
    "df.plot(x='Date', y='Price', kind='line')\n",
    "plt.xlabel('Date')\n",
    "plt.ylabel('Price')\n",
    "plt.title('Banana Prices Over Time')\n",
    "plt.show()"
   ]
  },
  {
   "cell_type": "markdown",
   "metadata": {},
   "source": [
    "## yfinance\n",
    "\n",
    "Yfinance is a free, open-source Python library that provides access to financial data from Yahoo Finance. It allows users to write simple Python commands and pull a wide range of financial data, like stock ticker data, options, fundamental financials, and much more, into a notebook, spreadsheet, or development environment.\n",
    "\n",
    "**Exercise 1: Getting Tesla Stock Data**\n",
    "\n",
    "Fetch the stock data for Tesla over the past month."
   ]
  },
  {
   "cell_type": "code",
   "execution_count": 22,
   "metadata": {},
   "outputs": [
    {
     "name": "stdout",
     "output_type": "stream",
     "text": [
      "                                 Open        High         Low       Close  \\\n",
      "Date                                                                        \n",
      "2024-09-23 00:00:00-04:00  242.610001  250.000000  241.919998  250.000000   \n",
      "2024-09-24 00:00:00-04:00  254.080002  257.190002  249.050003  254.270004   \n",
      "2024-09-25 00:00:00-04:00  252.539993  257.049988  252.279999  257.019989   \n",
      "2024-09-26 00:00:00-04:00  260.600006  261.750000  251.529999  254.220001   \n",
      "2024-09-27 00:00:00-04:00  257.380005  260.700012  254.119995  260.459991   \n",
      "2024-09-30 00:00:00-04:00  259.040009  264.859985  255.770004  261.630005   \n",
      "2024-10-01 00:00:00-04:00  262.670013  263.980011  248.529999  258.019989   \n",
      "2024-10-02 00:00:00-04:00  247.550003  251.160004  241.500000  249.020004   \n",
      "2024-10-03 00:00:00-04:00  244.479996  249.789993  237.809998  240.660004   \n",
      "2024-10-04 00:00:00-04:00  246.690002  250.960007  244.580002  250.080002   \n",
      "2024-10-07 00:00:00-04:00  249.000000  249.830002  240.699997  240.830002   \n",
      "2024-10-08 00:00:00-04:00  243.559998  246.210007  240.559998  244.500000   \n",
      "2024-10-09 00:00:00-04:00  243.820007  247.429993  239.509995  241.050003   \n",
      "2024-10-10 00:00:00-04:00  241.809998  242.789993  232.339996  238.770004   \n",
      "2024-10-11 00:00:00-04:00  220.130005  223.339996  214.380005  217.800003   \n",
      "2024-10-14 00:00:00-04:00  220.130005  221.910004  213.740005  219.160004   \n",
      "2024-10-15 00:00:00-04:00  220.009995  224.259995  217.119995  219.570007   \n",
      "2024-10-16 00:00:00-04:00  221.399994  222.820007  218.929993  221.330002   \n",
      "2024-10-17 00:00:00-04:00  221.589996  222.080002  217.899994  220.889999   \n",
      "2024-10-18 00:00:00-04:00  220.710007  222.279999  219.229996  220.699997   \n",
      "2024-10-21 00:00:00-04:00  218.899994  220.479996  215.725998  217.330002   \n",
      "\n",
      "                              Volume  Dividends  Stock Splits  \n",
      "Date                                                           \n",
      "2024-09-23 00:00:00-04:00   86927200        0.0           0.0  \n",
      "2024-09-24 00:00:00-04:00   88491000        0.0           0.0  \n",
      "2024-09-25 00:00:00-04:00   65034300        0.0           0.0  \n",
      "2024-09-26 00:00:00-04:00   67142200        0.0           0.0  \n",
      "2024-09-27 00:00:00-04:00   70988100        0.0           0.0  \n",
      "2024-09-30 00:00:00-04:00   80705700        0.0           0.0  \n",
      "2024-10-01 00:00:00-04:00   87397600        0.0           0.0  \n",
      "2024-10-02 00:00:00-04:00   93983900        0.0           0.0  \n",
      "2024-10-03 00:00:00-04:00   80729200        0.0           0.0  \n",
      "2024-10-04 00:00:00-04:00   86573200        0.0           0.0  \n",
      "2024-10-07 00:00:00-04:00   68113300        0.0           0.0  \n",
      "2024-10-08 00:00:00-04:00   56303200        0.0           0.0  \n",
      "2024-10-09 00:00:00-04:00   66289500        0.0           0.0  \n",
      "2024-10-10 00:00:00-04:00   83087100        0.0           0.0  \n",
      "2024-10-11 00:00:00-04:00  142628900        0.0           0.0  \n",
      "2024-10-14 00:00:00-04:00   86291900        0.0           0.0  \n",
      "2024-10-15 00:00:00-04:00   62988800        0.0           0.0  \n",
      "2024-10-16 00:00:00-04:00   49632800        0.0           0.0  \n",
      "2024-10-17 00:00:00-04:00   50791800        0.0           0.0  \n",
      "2024-10-18 00:00:00-04:00   49526800        0.0           0.0  \n",
      "2024-10-21 00:00:00-04:00   38135278        0.0           0.0  \n"
     ]
    }
   ],
   "source": [
    "import yfinance as yf\n",
    "\n",
    "tsla = yf.Ticker('TSLA')\n",
    "history = tsla.history(period='1mo')\n",
    "print(history)"
   ]
  },
  {
   "cell_type": "markdown",
   "metadata": {},
   "source": [
    "The yfinance library itself actually uses other python libraries in its own code to handle data requests. For example, the `.history()` method that we just called for TSLA returns a pandas `DataFrame` object. Using our knowledge of Pandas and DataFrames, let's look at the next problem:\n",
    "\n",
    "**Exercise 2: Stock Price Analysis**\n",
    "\n",
    "What was the highest closing price for Tesla in the past month?"
   ]
  },
  {
   "cell_type": "code",
   "execution_count": 24,
   "metadata": {},
   "outputs": [
    {
     "name": "stdout",
     "output_type": "stream",
     "text": [
      "261.6300048828125\n"
     ]
    }
   ],
   "source": [
    "highest_price = history['Close'].max()\n",
    "print(highest_price)"
   ]
  },
  {
   "cell_type": "markdown",
   "metadata": {},
   "source": [
    "**Exercise 3: Visualizing Tesla’s Stock Prices**\n",
    "\n",
    "Plot the closing prices of Tesla’s stock over the past month."
   ]
  },
  {
   "cell_type": "code",
   "execution_count": 25,
   "metadata": {},
   "outputs": [
    {
     "data": {
      "image/png": "[encoded data removed]",
      "text/plain": [
       "<Figure size 640x480 with 1 Axes>"
      ]
     },
     "metadata": {},
     "output_type": "display_data"
    }
   ],
   "source": [
    "history['Close'].plot()\n",
    "plt.title('Tesla Stock Prices Over the Last Month')\n",
    "plt.xlabel('Date')\n",
    "plt.ylabel('Closing Price')\n",
    "plt.show()"
   ]
  },
  {
   "cell_type": "markdown",
   "metadata": {},
   "source": [
    "**Exercise 4: Comparing Stock Prices**\n",
    "\n",
    "Fetch the stock data for Tesla, Apple, and Amazon, and compare their performance over the past month."
   ]
  },
  {
   "cell_type": "code",
   "execution_count": 26,
   "metadata": {},
   "outputs": [
    {
     "name": "stderr",
     "output_type": "stream",
     "text": [
      "[*********************100%%**********************]  3 of 3 completed\n"
     ]
    },
    {
     "name": "stdout",
     "output_type": "stream",
     "text": [
      "                  AAPL        AMZN        TSLA\n",
      "Date                                          \n",
      "2024-09-23  226.470001  193.880005  250.000000\n",
      "2024-09-24  227.369995  193.960007  254.270004\n",
      "2024-09-25  226.369995  192.529999  257.019989\n",
      "2024-09-26  227.520004  191.160004  254.220001\n",
      "2024-09-27  227.789993  187.970001  260.459991\n",
      "2024-09-30  233.000000  186.330002  261.630005\n",
      "2024-10-01  226.210007  185.130005  258.019989\n",
      "2024-10-02  226.779999  184.759995  249.020004\n",
      "2024-10-03  225.669998  181.960007  240.660004\n",
      "2024-10-04  226.800003  186.509995  250.080002\n",
      "2024-10-07  221.690002  180.800003  240.830002\n",
      "2024-10-08  225.770004  182.720001  244.500000\n",
      "2024-10-09  229.539993  185.169998  241.050003\n",
      "2024-10-10  229.039993  186.649994  238.770004\n",
      "2024-10-11  227.550003  188.820007  217.800003\n",
      "2024-10-14  231.300003  187.539993  219.160004\n",
      "2024-10-15  233.850006  187.690002  219.570007\n",
      "2024-10-16  231.779999  186.889999  221.330002\n",
      "2024-10-17  232.149994  187.529999  220.889999\n",
      "2024-10-18  235.000000  188.990005  220.699997\n",
      "2024-10-21  236.268204  188.675003  217.544998\n"
     ]
    },
    {
     "data": {
      "image/png": "[encoded data removed]",
      "text/plain": [
       "<Figure size 640x480 with 1 Axes>"
      ]
     },
     "metadata": {},
     "output_type": "display_data"
    }
   ],
   "source": [
    "stocks = ['TSLA', 'AAPL', 'AMZN']\n",
    "\n",
    "data = yf.download(stocks, period='1mo')\n",
    "print(data['Close'])\n",
    "\n",
    "# Plot the closing prices\n",
    "data['Close'].plot()\n",
    "plt.title('Stock Prices for TSLA, AAPL, and AMZN')\n",
    "plt.xlabel('Date')\n",
    "plt.ylabel('Closing Price')\n",
    "plt.show()"
   ]
  },
  {
   "cell_type": "markdown",
   "metadata": {},
   "source": [
    "* `.history()` is tied to a single stock (Ticker object).\n",
    "* `.download()` is more flexible for fetching data for multiple stocks at once.\n",
    "* Both return similar historical data (OHLC and volume), but `.download()` is more efficient for bulk data retrieval.\n",
    "\n",
    "**Exercise: Calulate Moving Averages**\n",
    "\n",
    "Calculate the 7-day moving average for Tesla’s stock prices."
   ]
  },
  {
   "cell_type": "code",
   "execution_count": 30,
   "metadata": {},
   "outputs": [
    {
     "data": {
      "image/png": "[encoded data removed]",
      "text/plain": [
       "<Figure size 640x480 with 1 Axes>"
      ]
     },
     "metadata": {},
     "output_type": "display_data"
    }
   ],
   "source": [
    "# Calculate a 7-day moving average for Tesla's stock prices\n",
    "# history['7-day MA'] = history['Close'].rolling(window=7).mean()\n",
    "window_size = 7\n",
    "moving_averages = []\n",
    "\n",
    "# Iterate through the data to calculate the moving average manually\n",
    "for i in range(len(history['Close'])):\n",
    "    if i < window_size - 1:\n",
    "        moving_averages.append(None)  # Not enough data to calculate the MA\n",
    "    else:\n",
    "        window = history['Close'][i - window_size + 1:i + 1]  # The past 7 days\n",
    "        moving_averages.append(window.mean())  # Calculate the mean for the window\n",
    "\n",
    "# Add the moving average to the DataFrame\n",
    "history['7-day MA'] = moving_averages\n",
    "\n",
    "# Plot the moving average and the original data\n",
    "history[['Close', '7-day MA']].plot()\n",
    "plt.title('Tesla Stock Price and 7-Day Moving Average')\n",
    "plt.xlabel('Date')\n",
    "plt.ylabel('Price')\n",
    "plt.show()"
   ]
  },
  {
   "cell_type": "markdown",
   "metadata": {},
   "source": [
    "`.rolling` creates a moving window of a specified size over the data. This window slides along the data, allowing you to calculate statistics or perform operations on each window.\n",
    "\n",
    "**Exercise 2: Stock Analysis and Report Generation**\n",
    "\n",
    "Fetch stock data for Tesla, Apple, and Amazon for the past 3 months. Calculate the average closing price, the highest closing price, and the total trading volume for each stock."
   ]
  },
  {
   "cell_type": "code",
   "execution_count": 28,
   "metadata": {},
   "outputs": [
    {
     "name": "stderr",
     "output_type": "stream",
     "text": [
      "[*********************100%%**********************]  3 of 3 completed"
     ]
    },
    {
     "name": "stdout",
     "output_type": "stream",
     "text": [
      "      Average Closing Price  Max Closing Price  Total Volume\n",
      "AAPL             223.887230         236.259903    3297877125\n",
      "AMZN             180.672462         193.960007    2488552135\n",
      "TSLA             225.264618         261.630005    5206230452\n"
     ]
    },
    {
     "name": "stderr",
     "output_type": "stream",
     "text": [
      "\n"
     ]
    }
   ],
   "source": [
    "# Fetch stock data\n",
    "data = yf.download(stocks, period='3mo')\n",
    "\n",
    "# Calculate summary statistics for each stock\n",
    "summary = data['Close'].agg(['mean', 'max'])\n",
    "volume = data['Volume'].sum()\n",
    "\n",
    "# Merge the summary and volume data into a report\n",
    "report = pd.concat([summary.T, volume], axis=1)\n",
    "report.columns = ['Average Closing Price', 'Max Closing Price', 'Total Volume']\n",
    "print(report)"
   ]
  },
  {
   "cell_type": "markdown",
   "metadata": {},
   "source": [
    "At this point, you are not expected to be able to perform all of pandas functions from memory. There is a LOT more functionality to all of these libraries, these are just very common operations that you will get more comfortable using after calling them time and time again in future projects.\n",
    "\n",
    "A good place to be at this point is to recognize what a library is, how to call its functions, use its datatypes/classes, and specifically, what a DataFrame is and how it is used in combination with other libraries."
   ]
  }
 ],
 "metadata": {
  "kernelspec": {
   "display_name": "quant",
   "language": "python",
   "name": "python3"
  },
  "language_info": {
   "codemirror_mode": {
    "name": "ipython",
    "version": 3
   },
   "file_extension": ".py",
   "mimetype": "text/x-python",
   "name": "python",
   "nbconvert_exporter": "python",
   "pygments_lexer": "ipython3",
   "version": "3.11.7"
  }
 },
 "nbformat": 4,
 "nbformat_minor": 2
}
