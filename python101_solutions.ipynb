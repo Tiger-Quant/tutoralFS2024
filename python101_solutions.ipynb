{
 "cells": [
  {
   "cell_type": "markdown",
   "metadata": {},
   "source": [
    "Following IMC Prosperity's Python Tutorials..."
   ]
  },
  {
   "cell_type": "markdown",
   "metadata": {},
   "source": [
    "**Terry's Bananas**\n",
    "\n",
    "\n",
    "Trader Terry is buying bananas at the markets for from some different vendors. Terry thinks a banana is really worht 10 dollars and classifies the price at the different markets into 4 categories:\n",
    "\n",
    "* If the price is less than 10 dollars: `Good`\n",
    "* If the price is less than 6 dollars: `Really Good!`\n",
    "* If the price is 10 dollars or more: `Bad`\n",
    "* If the price is more than 14 dollars: `Really Bad!`\n",
    "\n",
    "Write some python code to help Terry classify a given banana price. Your code should print out the category (and only one category!)"
   ]
  },
  {
   "cell_type": "code",
   "execution_count": 7,
   "metadata": {},
   "outputs": [
    {
     "name": "stdout",
     "output_type": "stream",
     "text": [
      "Good\n"
     ]
    }
   ],
   "source": [
    "price = 8\n",
    "\n",
    "if (price < 6):\n",
    "    print(\"Really Good!\")\n",
    "elif (price < 10):\n",
    "    print(\"Good\")\n",
    "elif (price > 14):\n",
    "    print(\"Really Bad!\")\n",
    "else:\n",
    "    print(\"Bad\")"
   ]
  },
  {
   "cell_type": "markdown",
   "metadata": {},
   "source": [
    "After getting scammed by a vendor who only sold bananas at odd prices, Terry has become jaded and suspicious. He will now only consider a price to be `Really Good!` if it also an even number, otherwise he considers it simply `Good`. Similarly, he will also consider odd prices greater than 10 to always be `Really Bad!`. Copy your code from above into the cell below and modify it to help out suspicious Terry."
   ]
  },
  {
   "cell_type": "code",
   "execution_count": 17,
   "metadata": {},
   "outputs": [
    {
     "name": "stdout",
     "output_type": "stream",
     "text": [
      "Really Good!\n"
     ]
    }
   ],
   "source": [
    "price = 4\n",
    "\n",
    "if (price < 6):\n",
    "    if (price % 2 != 0):\n",
    "        print(\"Good\")\n",
    "    else:\n",
    "        print(\"Really Good!\")\n",
    "elif (price < 10):\n",
    "    print(\"Good\")\n",
    "elif (price > 14):\n",
    "    print(\"Really Bad!\")\n",
    "else:\n",
    "    if (price % 2 == 0):\n",
    "        print(\"Bad\")\n",
    "    else:\n",
    "        print(\"Really Bad!\")"
   ]
  },
  {
   "cell_type": "markdown",
   "metadata": {},
   "source": [
    "**Terry's Bananas - The Repricening**\n",
    "\n",
    "Trader Terry has been working on his pricing algorithm and is back to buy some more bananas. He's simplified his pricing down to 3 categories:\n",
    "\n",
    "* If the price is less than 8 dollars: `Good!`\n",
    "* If the price is more than 12 dollars: `Bad`\n",
    "* Otherwise: `Ok`\n",
    "\n",
    "Write a python function called `classify_price` that accepts one argument (the price of the bananas) and returns the appropriate `str` classification."
   ]
  },
  {
   "cell_type": "code",
   "execution_count": 21,
   "metadata": {},
   "outputs": [
    {
     "data": {
      "text/plain": [
       "'Ok'"
      ]
     },
     "execution_count": 21,
     "metadata": {},
     "output_type": "execute_result"
    }
   ],
   "source": [
    "# Write your function here\n",
    "def classify_price(price):\n",
    "    if (price < 8):\n",
    "        return \"Good!\"\n",
    "    elif (price > 12):\n",
    "        return \"Bad\"\n",
    "    else:\n",
    "        return \"Ok\"\n",
    "\n",
    "# Test your function with these!\n",
    "# classify_price(7)\n",
    "classify_price(9)\n",
    "# classify_price(14)"
   ]
  },
  {
   "cell_type": "markdown",
   "metadata": {},
   "source": [
    "Terry has discovered that sometimes he occasionally wants to price bananas with different good and bad price levels (instead of 8 and 12). Modify your function so that you can set different price thresholds but by default, it uses 8 and 12 as the thresholds."
   ]
  },
  {
   "cell_type": "code",
   "execution_count": 26,
   "metadata": {},
   "outputs": [
    {
     "data": {
      "text/plain": [
       "'Good!'"
      ]
     },
     "execution_count": 26,
     "metadata": {},
     "output_type": "execute_result"
    }
   ],
   "source": [
    "def classify_price(price, low=8, high=12):\n",
    "    if (price < low):\n",
    "        return \"Good!\"\n",
    "    elif (price > high):\n",
    "        return \"Bad\"\n",
    "    else:\n",
    "        return \"Ok\"\n",
    "\n",
    "# classify_price(55, 6, 20)\n",
    "classify_price(6)"
   ]
  },
  {
   "cell_type": "markdown",
   "metadata": {},
   "source": [
    "Terry has received a tip that the vendor selling bananas for 4 dollars at the market today is trying to get rid of his illegally imported, contraband bananas. Terry, wanting no part in these shenanigans, considers this to be `Really Bad!` for his trading.\n",
    "\n",
    "Write a new function which follows the same rules as `classify_price`, but for a price of 4 dollars returns the `str` `Really Bad!`."
   ]
  },
  {
   "cell_type": "code",
   "execution_count": 29,
   "metadata": {},
   "outputs": [
    {
     "data": {
      "text/plain": [
       "'Really Bad!'"
      ]
     },
     "execution_count": 29,
     "metadata": {},
     "output_type": "execute_result"
    }
   ],
   "source": [
    "def classify_price_shenanigans(price, low=8, high=12):\n",
    "    if (price == 4):\n",
    "        return \"Really Bad!\"\n",
    "    \n",
    "    if (price < low):\n",
    "        return \"Good!\"\n",
    "    elif (price > high):\n",
    "        return \"Bad\"\n",
    "    else:\n",
    "        return \"Ok\"\n",
    "\n",
    "classify_price_shenanigans(4)"
   ]
  },
  {
   "cell_type": "markdown",
   "metadata": {},
   "source": [
    "**Terry Stacking**\n",
    "\n",
    "Through his successful trading scheme, Terry now owns many crates of bananas. Due to the peculiar shape of his warehouse, Terry must stack the crates in triangular stacks - with each row containing one less crate than the row below it. For example, if Terry starts his stack with a row of 4 crates, he must then put 3 crates on top of that, then 2, then 1, for a total of 4 + 3 + 2 + 1 = 10 crates.\n",
    "\n",
    "Write a function `stack_total` which takes a singular argument, the number of crates in the bottom row, and calculates the total number of crates in a given Terry-triangle-stack."
   ]
  },
  {
   "cell_type": "code",
   "execution_count": 36,
   "metadata": {},
   "outputs": [
    {
     "data": {
      "text/plain": [
       "21"
      ]
     },
     "execution_count": 36,
     "metadata": {},
     "output_type": "execute_result"
    }
   ],
   "source": [
    "# Write code here\n",
    "def stack_total(numCrates):\n",
    "    \n",
    "    total = 0\n",
    "    for i in range(numCrates):\n",
    "        total += numCrates\n",
    "        numCrates = numCrates - 1\n",
    "\n",
    "    return total\n",
    "\n",
    "# Another implementation with a while loop instead of a for loop\n",
    "# def stack_total(numCrates):\n",
    "#     total = 0\n",
    "#     while (numCrates != 0):\n",
    "#         total += numCrates\n",
    "#         numCrates = numCrates - 1\n",
    "\n",
    "#     return total\n",
    "\n",
    "# stack_total(4) = 4+3+2+1 = 10\n",
    "# stack_total(6) = 6+5+4+3+2+1 = 21\n",
    "stack_total(6)"
   ]
  },
  {
   "cell_type": "markdown",
   "metadata": {},
   "source": [
    "**Big Crates, Big Bunches**\n",
    "\n",
    "Terry has decided to invest in some bigger crates which can fit multiple bunches of bananas of any size. In his haste to pack all of his banana bunches into these new crates, however, Terry forgot to count his overall total number of bananas. What he does have, is a list of his crates which contain lists of the size of each banana bunch they contain.\n",
    "\n",
    "Write a function `count_bananas` which takes a single list argument. Each element in this list is a list of integers, representing a create and the bunches of bananas within it. The function should return the total sum of all integers."
   ]
  },
  {
   "cell_type": "code",
   "execution_count": 32,
   "metadata": {},
   "outputs": [
    {
     "data": {
      "text/plain": [
       "285"
      ]
     },
     "execution_count": 32,
     "metadata": {},
     "output_type": "execute_result"
    }
   ],
   "source": [
    "# write code here\n",
    "def count_bananas(crates):\n",
    "    \n",
    "    total = 0\n",
    "    for crate in crates:\n",
    "        for bunch in crate:\n",
    "            total += bunch\n",
    "\n",
    "    return total\n",
    "\n",
    "count_bananas([[25, 25, 25, 25], [40, 45, 10], [90]])"
   ]
  },
  {
   "cell_type": "markdown",
   "metadata": {},
   "source": [
    "Terry is also interested in knowing the biggest banana bunch he currently has in his crates. Create a modified version of your previous function `biggest_bunch` which takes the same input but instead returns the size of the biggest banana bunch."
   ]
  },
  {
   "cell_type": "code",
   "execution_count": 33,
   "metadata": {},
   "outputs": [
    {
     "data": {
      "text/plain": [
       "90"
      ]
     },
     "execution_count": 33,
     "metadata": {},
     "output_type": "execute_result"
    }
   ],
   "source": [
    "def biggest_bunch(crates):\n",
    "    biggest = 0\n",
    "    for crate in crates:\n",
    "        for bunch in crate:\n",
    "            if (bunch > biggest):\n",
    "                biggest = bunch\n",
    "    \n",
    "    return biggest\n",
    "\n",
    "biggest_bunch([[25, 25, 25, 25], [40, 45, 10], [90]])"
   ]
  },
  {
   "cell_type": "markdown",
   "metadata": {},
   "source": [
    "**Widening the Nets**\n",
    "\n",
    "Emboldened by his bananas trading success, Terry has decided to expand his empire to other produce at the markets. He now keeps a note on him which contains his estimation of what each product is worth. If he can buy a product for cheaper than his estimated price, he will. If he doesn't have an estimation for a product, he will never but it.\n",
    "\n",
    "Write a function `should_buy` which accepts three arguments:\n",
    "* `product`: The name of the product (str)\n",
    "* `price`: The price of the product at the market (int)\n",
    "* `valuations`: A dictionary of product to estimated price (str -> int)\n",
    "\n",
    "And returns True/False whether Terry should buy the product."
   ]
  },
  {
   "cell_type": "code",
   "execution_count": 42,
   "metadata": {},
   "outputs": [
    {
     "data": {
      "text/plain": [
       "True"
      ]
     },
     "execution_count": 42,
     "metadata": {},
     "output_type": "execute_result"
    }
   ],
   "source": [
    "# write your code here\n",
    "def should_buy(product, price, valuations):\n",
    "    if (product not in valuations):\n",
    "        return False\n",
    "    else:\n",
    "        terrys_price = valuations[product]\n",
    "\n",
    "    if (price < terrys_price):\n",
    "        return True\n",
    "\n",
    "    return False\n",
    "\n",
    "valuations = {'banana': 8, 'shell': 4, 'coconut': 13}\n",
    "\n",
    "# should_buy('banana', 7, valuations) >> True\n",
    "# should_buy('shell', 6, valuations) >> False\n",
    "# should_buy('plum', 3, valuations) >> False\n",
    "\n",
    "should_buy('shell', 2, valuations)"
   ]
  },
  {
   "cell_type": "markdown",
   "metadata": {},
   "source": [
    "Despite his best efforts to stick to his conservative trading scheme, Terry is dazzled by a mysterious vendor and persuaded to buy a mystery box containing a number of mixed products. After his shameful moment of weakness, he is still keen to know the total value of each product he bought.\n",
    "\n",
    "Write a function `mystery_box_value` which takes in 2 dictionaries:\n",
    "* `products`: A dictionary of product to number of stock (str -> int)\n",
    "* `valuations`: A dictionary of product to estimated value (str -> int)\n",
    "\n",
    "The function should return a new dictionary, mapping each product to the total value of all stock for that product, based on Terry's valuation."
   ]
  },
  {
   "cell_type": "code",
   "execution_count": 43,
   "metadata": {},
   "outputs": [
    {
     "data": {
      "text/plain": [
       "{'banana': 1600, 'shell': 1200, 'coconut': 1300}"
      ]
     },
     "execution_count": 43,
     "metadata": {},
     "output_type": "execute_result"
    }
   ],
   "source": [
    "# write your code here\n",
    "def mystery_box_value(products, valuations):\n",
    "    \n",
    "    output = {}\n",
    "    \n",
    "    for product in products:\n",
    "        if (product in valuations):\n",
    "            output[product] = valuations[product] * products[product]\n",
    "    \n",
    "    return output\n",
    "\n",
    "\n",
    "products = {'banana': 200, 'shell': 300, 'coconut': 100}\n",
    "valuations = {'banana': 8, 'shell': 4, 'coconut': 13}\n",
    "\n",
    "mystery_box_value(products, valuations)\n",
    "# >>> {'banana': 1600, 'shell': 1200, 'coconut': 1300}"
   ]
  },
  {
   "cell_type": "markdown",
   "metadata": {},
   "source": [
    "**Terry Keeps it Classy**\n",
    "\n",
    "With the vast amount of product Terry is trading his old system of pen and paper is simply not cutting it anymore. Terry has deccided he needs a full on Python `TradeTracker` to track his trades.\n",
    "\n",
    "Write a simple `Trade` class for Terry. It should have 2 integer attributes: the `price` the trade was made at, and `volume` - how many unites Terry traded. If the volume is positive, the trade was a `buy`, if the volume was negative, the trade was a `sell`. The `Trade` class should also have a `is_buy` method which tells Terry `True/False` if the `Trade` was a buy."
   ]
  },
  {
   "cell_type": "code",
   "execution_count": 46,
   "metadata": {},
   "outputs": [
    {
     "data": {
      "text/plain": [
       "True"
      ]
     },
     "execution_count": 46,
     "metadata": {},
     "output_type": "execute_result"
    }
   ],
   "source": [
    "# write your code here\n",
    "class Trade:\n",
    "    def __init__(self, price, volume):\n",
    "        self.price = price\n",
    "        self.volume = volume\n",
    "    \n",
    "    def is_buy(self):\n",
    "        if (self.volume <= 0):\n",
    "            return False\n",
    "\n",
    "        return True\n",
    "\n",
    "trade = Trade(4, 2)\n",
    "# trade.is_buy() >>> True\n",
    "trade.is_buy()"
   ]
  },
  {
   "cell_type": "markdown",
   "metadata": {},
   "source": [
    "Terry is finding it difficult to read his current `Trade` object, and would like it to display in a nicer format that includes the `volume` and the `price` of the trade. If Terry makes a trade for 10 units at 4 dollars, his trade should look like: `Trade(10 @ $4)`. Modify the `Trade` class to match the display."
   ]
  },
  {
   "cell_type": "code",
   "execution_count": 58,
   "metadata": {},
   "outputs": [
    {
     "name": "stdout",
     "output_type": "stream",
     "text": [
      "Trade(-6 @ $4)\n"
     ]
    },
    {
     "data": {
      "text/plain": [
       "False"
      ]
     },
     "execution_count": 58,
     "metadata": {},
     "output_type": "execute_result"
    }
   ],
   "source": [
    "class Trade:\n",
    "    def __init__(self, price, volume):\n",
    "        self.price = price\n",
    "        self.volume = volume\n",
    "    \n",
    "    def is_buy(self):\n",
    "        if (self.volume <= 0):\n",
    "            return False\n",
    "\n",
    "        return True\n",
    "\n",
    "    def __repr__(self) -> str:\n",
    "        return f\"Trade({self.volume} @ ${self.price})\"\n",
    "\n",
    "trade = Trade(4, -6)\n",
    "print(trade)\n",
    "trade.is_buy()"
   ]
  },
  {
   "cell_type": "markdown",
   "metadata": {},
   "source": [
    "We now need to make Terry's master `TradeTracker` class. A `TradeTracker` will have to keep track of each `Trade` that Terry inputs into it. It should have the following methods (at least):\n",
    "\n",
    "* `add_trade` which takes a `Trade` object and stores it in the tracker\n",
    "* `get_buy_trades` which returns a `List` of all stored `buy` trades\n",
    "* `get_average_traded_price` which returns the average price of all stored trades"
   ]
  },
  {
   "cell_type": "code",
   "execution_count": 61,
   "metadata": {},
   "outputs": [
    {
     "data": {
      "text/plain": [
       "8.5"
      ]
     },
     "execution_count": 61,
     "metadata": {},
     "output_type": "execute_result"
    }
   ],
   "source": [
    "# write your code here\n",
    "class TradeTracker:\n",
    "    def __init__(self):\n",
    "        self.trades = []\n",
    "\n",
    "    def add_trade(self, trade: Trade):\n",
    "        self.trades.append(trade)\n",
    "\n",
    "    def get_buy_trades(self):\n",
    "        buys = []\n",
    "        for trade in self.trades:\n",
    "            if (trade.is_buy()):\n",
    "                buys.append(trade)\n",
    "        \n",
    "        return buys\n",
    "\n",
    "    def get_average_traded_price(self):\n",
    "        total = 0\n",
    "        for trade in self.trades:\n",
    "            total += trade.price\n",
    "        \n",
    "        return total / len(self.trades)\n",
    "\n",
    "\n",
    "tracker = TradeTracker()\n",
    "tracker.add_trade(Trade(7, 4))\n",
    "tracker.add_trade(Trade(10, -3))\n",
    "# tracker.get_buy_trades() >>> [Trade(4 @ $7)]\n",
    "# tracker.get_average_traded_price() >>> 8.5\n",
    "tracker.get_buy_trades()\n",
    "tracker.get_average_traded_price()"
   ]
  }
 ],
 "metadata": {
  "kernelspec": {
   "display_name": "quant",
   "language": "python",
   "name": "python3"
  },
  "language_info": {
   "codemirror_mode": {
    "name": "ipython",
    "version": 3
   },
   "file_extension": ".py",
   "mimetype": "text/x-python",
   "name": "python",
   "nbconvert_exporter": "python",
   "pygments_lexer": "ipython3",
   "version": "3.11.7"
  }
 },
 "nbformat": 4,
 "nbformat_minor": 2
}
