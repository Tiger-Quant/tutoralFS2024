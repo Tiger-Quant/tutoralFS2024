{
 "cells": [
  {
   "cell_type": "markdown",
   "metadata": {},
   "source": [
    "First things first... variables!\n",
    "\n",
    "* String, characters, ints, floats, boolean, and \"None\"\n",
    "* Assignment vs. Comparator Operators\n",
    "* print()"
   ]
  },
  {
   "cell_type": "markdown",
   "metadata": {},
   "source": [
    "Following IMC Prosperity's Python Tutorials..."
   ]
  },
  {
   "cell_type": "markdown",
   "metadata": {},
   "source": [
    "**Terry's Bananas**\n",
    "\n",
    "\n",
    "Trader Terry is buying bananas at the markets for from some different vendors. Terry thinks a banana is really worht 10 dollars and classifies the price at the different markets into 4 categories:\n",
    "\n",
    "* If the price is less than 10 dollars: `Good`\n",
    "* If the price is less than 6 dollars: `Really Good!`\n",
    "* If the price is 10 dollars or more: `Bad`\n",
    "* If the price is more than 14 dollars: `Really Bad!`\n",
    "\n",
    "Write some python code to help Terry classify a given banana price. Your code should print out the category (and only one category!)"
   ]
  },
  {
   "cell_type": "code",
   "execution_count": null,
   "metadata": {},
   "outputs": [],
   "source": []
  },
  {
   "cell_type": "markdown",
   "metadata": {},
   "source": [
    "After getting scammed by a vendor who only sold bananas at odd prices, Terry has become jaded and suspicious. He will now only consider a price to be `Really Good!` if it also an even number, otherwise he considers it simply `Good`. Similarly, he will also consider odd prices greater than 10 to always be `Really Bad!`. Copy your code from above into the cell below and modify it to help out suspicious Terry."
   ]
  },
  {
   "cell_type": "code",
   "execution_count": null,
   "metadata": {},
   "outputs": [],
   "source": []
  },
  {
   "cell_type": "markdown",
   "metadata": {},
   "source": [
    "**Terry's Bananas - The Repricening**\n",
    "\n",
    "Trader Terry has been working on his pricing algorithm and is back to buy some more bananas. He's simplified his pricing down to 3 categories:\n",
    "\n",
    "* If the price is less than 8 dollars: `Good!`\n",
    "* If the price is more than 12 dollars: `Bad`\n",
    "* Otherwise: `Ok`\n",
    "\n",
    "Write a python function called `classify_price` that accepts one argument (the price of the bananas) and returns the appropriate `str` classification."
   ]
  },
  {
   "cell_type": "code",
   "execution_count": 1,
   "metadata": {},
   "outputs": [],
   "source": [
    "# Write your function here\n",
    "\n",
    "\n",
    "# Test your function with these!\n",
    "# classify_price(7)\n",
    "# classify_price(9)\n",
    "# classify_price(14)"
   ]
  },
  {
   "cell_type": "markdown",
   "metadata": {},
   "source": [
    "Terry has discovered that sometimes he occasionally wants to price bananas with different good and bad price levels (instead of 8 and 12). Modify your function so that you can set different price thresholds but by default, it uses 8 and 12 as the thresholds."
   ]
  },
  {
   "cell_type": "code",
   "execution_count": null,
   "metadata": {},
   "outputs": [],
   "source": []
  },
  {
   "cell_type": "markdown",
   "metadata": {},
   "source": [
    "Terry has received a tip that the vendor selling bananas for 4 dollars at the market today is trying to get rid of his illegally imported, contraband bananas. Terry, wanting no part in these shenanigans, considers this to be `Really Bad!` for his trading.\n",
    "\n",
    "Write a new function which follows the same rules as `classify_price`, but for a price of 4 dollars returns the `str` `Really Bad!`."
   ]
  },
  {
   "cell_type": "code",
   "execution_count": null,
   "metadata": {},
   "outputs": [],
   "source": []
  },
  {
   "cell_type": "markdown",
   "metadata": {},
   "source": [
    "**Terry Stacking**\n",
    "\n",
    "Through his successful trading scheme, Terry now owns many crates of bananas. Due to the peculiar shape of his warehouse, Terry must stack the crates in triangular stacks - with each row containing one less crate than the row below it. For example, if Terry starts his stack with a row of 4 crates, he must then put 3 crates on top of that, then 2, then 1, for a total of 4 + 3 + 2 + 1 = 10 crates.\n",
    "\n",
    "Write a function `stack_total` which takes a singular argument, the number of creates in the bottom row, and calculates the total number of crates in a given Terry-triangle-stack."
   ]
  },
  {
   "cell_type": "code",
   "execution_count": 2,
   "metadata": {},
   "outputs": [],
   "source": [
    "# Write code here\n",
    "\n",
    "# stack_total(4) = 4+3+2+1 = 10\n",
    "# stack_total(6) = 6+5+4+3+2+1 = 21"
   ]
  },
  {
   "cell_type": "markdown",
   "metadata": {},
   "source": [
    "**Big Crates, Big Bunches**\n",
    "\n",
    "Terry has decided to invst in some bigger crates which can fit multiple bunches of bananas of any size. In his haste to pack all of his banana bunches into these new crates, however, Terry forgot to count his overall total number of bananas. What he does have, is a list of his crates which contain lists of the size of each banana bunch they contain.\n",
    "\n",
    "Write a function `count_bananas` which takes a single list argument. Each elemnet in this list is a list of integers, representing a create and the bunches of bananas within it. The function should return the total sum of all integers."
   ]
  },
  {
   "cell_type": "code",
   "execution_count": null,
   "metadata": {},
   "outputs": [],
   "source": [
    "# write code here\n",
    "\n",
    "# count_bananas([[25, 25, 25, 25], [40, 45, 10], [90]])"
   ]
  },
  {
   "cell_type": "markdown",
   "metadata": {},
   "source": [
    "Terry is also interested in knowing the biggest banana bunch he currently has in his crates. Create a modified version of your previous function `biggest_bunch` which takes the same input but instead returns the size of the biggest banana bunch."
   ]
  },
  {
   "cell_type": "code",
   "execution_count": null,
   "metadata": {},
   "outputs": [],
   "source": []
  },
  {
   "cell_type": "markdown",
   "metadata": {},
   "source": [
    "**Widening the Nets**\n",
    "\n",
    "Emboldened by his bananas trading success, Terry has decided to expand his empire to other produce at the markets. He now keeps a note on him which contains his estimation of what each product is worth. If he can buy a product for cheaper than his estimated price, he will. If he doesn't have an estimation for a product, he will never but it.\n",
    "\n",
    "Write a function `should_buy` which accepts three arguments:\n",
    "* `product`: The name of the product (str)\n",
    "* `price`: The price of the product at the market (int)\n",
    "* `valuations`: A dictionary of product to estimated price (str -> int)\n",
    "\n",
    "And returns True/False whether Terry should buy the product."
   ]
  },
  {
   "cell_type": "code",
   "execution_count": null,
   "metadata": {},
   "outputs": [],
   "source": [
    "# write your code here\n",
    "\n",
    "# valuations = {'banana': 8, 'shell': 4, 'coconut': 13}\n",
    "\n",
    "# should_buy('banana', 7, valuations) >> True\n",
    "# should_buy('shell', 6, valuations) >> False\n",
    "# should_buy('plum', 3, valuations) >> False"
   ]
  },
  {
   "cell_type": "markdown",
   "metadata": {},
   "source": [
    "Despite his best efforts to stick to his conservative trading scheme, Terry is dazzled by a mysterious vendor and persuaded to buy a mystery box containing a number of mixed products. After his shameful moment of weakness, he is still keen to know the total value of each product he bought.\n",
    "\n",
    "Write a function `mystery_box_value` which takes in 2 dictionaries:\n",
    "* `products`: A dictionary of product to number of stock (str -> int)\n",
    "* `valuations`: A dictionary of product to estimated value (str -> int)\n",
    "\n",
    "The function should return a new dictionary, mapping each product to the total value of all stock for that product, based on Terry's valuation."
   ]
  },
  {
   "cell_type": "code",
   "execution_count": null,
   "metadata": {},
   "outputs": [],
   "source": [
    "# write your code here\n",
    "\n",
    "# products = {'banana': 200, 'shell': 300, 'coconut': 100}\n",
    "# valuations = {'banana': 8, 'shell': 4, 'coconut': 13}\n",
    "\n",
    "# mystery_box_value(products, valuations)\n",
    "# >>> {'banana': 1600, 'shell': 1200, 'coconut': 1300}"
   ]
  },
  {
   "cell_type": "markdown",
   "metadata": {},
   "source": [
    "**Terry Keeps it Classy**\n",
    "\n",
    "With the vast amount of product Terry is trading his old system of pen and paper is simply not cutting it anymore. Terry has deccided he needs a full on Python `TradeTracker` to track his trades.\n",
    "\n",
    "Write a simple `Trade` class for Terry. It should have 2 integer attributes: the `price` the trade was made at, and `volume` - how many unites Terry traded. If the volume is positive, the trade was a `buy`, if the volume was negative, the trade was a `sell`. The `Trade` class should also have a `is_buy` method which tells Terry `True/False` if the `Trade` was a buy."
   ]
  },
  {
   "cell_type": "code",
   "execution_count": null,
   "metadata": {},
   "outputs": [],
   "source": [
    "# write your code here\n",
    "\n",
    "# trade = Trade(4, 2)\n",
    "# trade.is_buy() >>> True"
   ]
  },
  {
   "cell_type": "markdown",
   "metadata": {},
   "source": [
    "Terry is finding it difficult to read his current `Trade` object, and would like it to display in a nicer format that includes the `volume` and the `price` of the trade. If Terry makes a trade for 10 units at 4 dollars, his trade should look like: `Trade(10 @ $4)`. Modify the `Trade` class to match the display."
   ]
  },
  {
   "cell_type": "code",
   "execution_count": null,
   "metadata": {},
   "outputs": [],
   "source": []
  },
  {
   "cell_type": "markdown",
   "metadata": {},
   "source": [
    "We now need to make Terry's master `TradeTracker` class. A `TradeTracker` will have to keep track of each `Trade` that Terry inputs into it. It should have the following methods (at least):\n",
    "\n",
    "* `add_trade` which takes a `Trade` object and stores it in the tracker\n",
    "* `get_buy_trades` which returns a `List` of all stored `buy` trades\n",
    "* `get_average_traded_price` which returns the average price of all stored trades"
   ]
  },
  {
   "cell_type": "code",
   "execution_count": 3,
   "metadata": {},
   "outputs": [],
   "source": [
    "# write your code here\n",
    "\n",
    "# tracker = TradeTracker()\n",
    "# tracker.add_trade(Trade(7, 4))\n",
    "# tracker.add_trade(Trade(10, -3))\n",
    "# tracker.get_buy_trades() >>> [Trade(4 @ $7)]\n",
    "# tracker.get_average_traded_price() >>> 8.5"
   ]
  }
 ],
 "metadata": {
  "kernelspec": {
   "display_name": "quant",
   "language": "python",
   "name": "python3"
  },
  "language_info": {
   "codemirror_mode": {
    "name": "ipython",
    "version": 3
   },
   "file_extension": ".py",
   "mimetype": "text/x-python",
   "name": "python",
   "nbconvert_exporter": "python",
   "pygments_lexer": "ipython3",
   "version": "3.11.7"
  }
 },
 "nbformat": 4,
 "nbformat_minor": 2
}
