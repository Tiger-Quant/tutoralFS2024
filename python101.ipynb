{
 "cells": [
  {
   "cell_type": "markdown",
   "metadata": {},
   "source": [
    "Following IMC Prosperity's Python Tutorials..."
   ]
  },
  {
   "cell_type": "markdown",
   "metadata": {},
   "source": [
    "**Terry's Bananas**\n",
    "\n",
    "\n",
    "Trader Terry is buying bananas at the markets for from some different vendors. Terry thinks a banana is really worht 10 dollars and classifies the price at the different markets into 4 categories:\n",
    "\n",
    "* If the price is less than 10 dollars: `Good`\n",
    "* If the price is less than 6 dollars: `Really Good!`\n",
    "* If the price is 10 dollars or more: `Bad`\n",
    "* If the price is more than 14 dollars: `Really Bad!`\n",
    "\n",
    "Write some python code to help Terry classify a given banana price. Your code should print out the category (and only one category!)"
   ]
  },
  {
   "cell_type": "code",
   "execution_count": null,
   "metadata": {},
   "outputs": [],
   "source": []
  },
  {
   "cell_type": "markdown",
   "metadata": {},
   "source": [
    "After getting scammed by a vendor who only sold bananas at odd prices, Terry has become jaded and suspicious. He will now only consider a price to be `Really Good!` if it also an even number, otherwise he considers it simply `Good`. Similarly, he will also consider odd prices greater than 10 to always be `Really Bad!`. Copy your code from above into the cell below and modify it to help out suspicious Terry."
   ]
  },
  {
   "cell_type": "code",
   "execution_count": null,
   "metadata": {},
   "outputs": [],
   "source": []
  },
  {
   "cell_type": "markdown",
   "metadata": {},
   "source": [
    "**Terry's Bananas - The Repricening**\n",
    "\n",
    "Trader Terry has been working on his pricing algorithm and is back to buy some more bananas. He's simplified his pricing down to 3 categories:\n",
    "\n",
    "* If the price is less than 8 dollars: `Good!`\n",
    "* If the price is more than 12 dollars: `Bad`\n",
    "* Otherwise: `Ok`\n",
    "\n",
    "Write a python function called `classify_price` that accepts one argument (the price of the bananas) and returns the appropriate `str` classification."
   ]
  },
  {
   "cell_type": "code",
   "execution_count": 1,
   "metadata": {},
   "outputs": [],
   "source": [
    "# Write your function here\n",
    "\n",
    "\n",
    "# Test your function with these!\n",
    "# classify_price(7)\n",
    "# classify_price(9)\n",
    "# classify_price(14)"
   ]
  },
  {
   "cell_type": "markdown",
   "metadata": {},
   "source": [
    "Terry has discovered that sometimes he occasionally wants to price bananas with different good and bad price levels (instead of 8 and 12). Modify your function so that you can set different price thresholds but by default, it uses 8 and 12 as the thresholds."
   ]
  },
  {
   "cell_type": "code",
   "execution_count": null,
   "metadata": {},
   "outputs": [],
   "source": []
  },
  {
   "cell_type": "markdown",
   "metadata": {},
   "source": [
    "Terry has received a tip that the vendor selling bananas for 4 dollars at the market today is trying to get rid of his illegally imported, contraband bananas. Terry, wanting no part in these shenanigans, considers this to be `Really Bad!` for his trading.\n",
    "\n",
    "Write a new function which follows the same rules as `classify_price`, but for a price of 4 dollars returns the `str` `Really Bad!`."
   ]
  },
  {
   "cell_type": "code",
   "execution_count": null,
   "metadata": {},
   "outputs": [],
   "source": []
  },
  {
   "cell_type": "markdown",
   "metadata": {},
   "source": [
    "**Terry Stacking**\n",
    "\n",
    "Through his successful trading scheme, Terry now owns many crates of bananas. Due to the peculiar shape of his warehouse, Terry must stack the crates in triangular stacks - with each row containing one less crate than the row below it. For example, if Terry starts his stack with a row of 4 crates, he must then put 3 crates on top of that, then 2, then 1, for a total of 4 + 3 + 2 + 1 = 10 crates.\n",
    "\n",
    "Write a function `stack_total` which takes a singular argument, the number of creates in the bottom row, and calculates the total number of crates in a given Terry-triangle-stack."
   ]
  },
  {
   "cell_type": "code",
   "execution_count": 2,
   "metadata": {},
   "outputs": [],
   "source": [
    "# Write code here\n",
    "\n",
    "# stack_total(4) = 4+3+2+1 = 10\n",
    "# stack_total(6) = 6+5+4+3+2+1 = 21"
   ]
  },
  {
   "cell_type": "markdown",
   "metadata": {},
   "source": [
    "**Big Crates, Big Bunches**\n",
    "\n",
    "Terry has decided to invst in some bigger crates which can fit multiple bunches of bananas of any size. In his haste to pack all of his banana bunches into these new crates, however, Terry forgot to count his overall total number of bananas. What he does have, is a list of his crates which contain lists of the size of each banana bunch they contain.\n",
    "\n",
    "Write a function `count_bananas` which takes a single list argument. Each elemnet in this list is a list of integers, representing a create and the bunches of bananas within it. The function should return the total sum of all integers."
   ]
  },
  {
   "cell_type": "code",
   "execution_count": null,
   "metadata": {},
   "outputs": [],
   "source": [
    "# write code here\n",
    "\n",
    "# count_bananas([[25, 25, 25, 25], [40, 45, 10], [90]])"
   ]
  },
  {
   "cell_type": "markdown",
   "metadata": {},
   "source": [
    "Terry is also interested in knowing the biggest banana bunch he currently has in his crates. Create a modified version of your previous function `biggest_bunch` which takes the same input but instead returns the size of the biggest banana bunch."
   ]
  },
  {
   "cell_type": "code",
   "execution_count": null,
   "metadata": {},
   "outputs": [],
   "source": []
  },
  {
   "cell_type": "markdown",
   "metadata": {},
   "source": [
    "**Widening the Nets**\n",
    "\n",
    "Emboldened by his bananas trading success, Terry has decided to expand his empire to other produce at the markets. He now keeps a note on him which contains his estimation of what each product is worth. If he can buy a product for cheaper than his estimated price, he will. If he doesn't have an estimation for a product, he will never but it.\n",
    "\n",
    "Write a function `should_buy` which accepts three arguments:\n",
    "* `product`: The name of the product (str)\n",
    "* `price`: The price of the product at the market (int)\n",
    "* `valuations`: A dictionary of product to estimated price (str -> int)\n",
    "\n",
    "And returns True/False whether Terry should buy the product."
   ]
  },
  {
   "cell_type": "code",
   "execution_count": null,
   "metadata": {},
   "outputs": [],
   "source": [
    "# write your code here\n",
    "\n",
    "# valuations = {'banana': 8, 'shell': 4, 'coconut': 13}\n",
    "\n",
    "# should_buy('banana', 7, valuations) >> True\n",
    "# should_buy('shell', 6, valuations) >> False\n",
    "# should_buy('plum', 3, valuations) >> False"
   ]
  },
  {
   "cell_type": "markdown",
   "metadata": {},
   "source": [
    "Despite his best efforts to stick to his conservative trading scheme, Terry is dazzled by a mysterious vendor and persuaded to buy a mystery box containing a number of mixed products. After his shameful moment of weakness, he is still keen to know the total value of each product he bought.\n",
    "\n",
    "Write a function `mystery_box_value` which takes in 2 dictionaries:\n",
    "* `products`: A dictionary of product to number of stock (str -> int)\n",
    "* `valuations`: A dictionary of product to estimated value (str -> int)\n",
    "\n",
    "The function should return a new dictionary, mapping each product to the total value of all stock for that product, based on Terry's valuation."
   ]
  },
  {
   "cell_type": "code",
   "execution_count": null,
   "metadata": {},
   "outputs": [],
   "source": [
    "# write your code here\n",
    "\n",
    "# products = {'banana': 200, 'shell': 300, 'coconut': 100}\n",
    "# valuations = {'banana': 8, 'shell': 4, 'coconut': 13}\n",
    "\n",
    "# mystery_box_value(products, valuations)\n",
    "# >>> {'banana': 1600, 'shell': 1200, 'coconut': 1300}"
   ]
  },
  {
   "cell_type": "markdown",
   "metadata": {},
   "source": [
    "**Terry Keeps it Classy**\n",
    "\n",
    "With the vast amount of product Terry is trading his old system of pen and paper is simply not cutting it anymore. Terry has deccided he needs a full on Python `TradeTracker` to track his trades.\n",
    "\n",
    "Write a simple `Trade` class for Terry. It should have 2 integer attributes: the `price` the trade was made at, and `volume` - how many unites Terry traded. If the volume is positive, the trade was a `buy`, if the volume was negative, the trade was a `sell`. The `Trade` class should also have a `is_buy` method which tells Terry `True/False` if the `Trade` was a buy."
   ]
  },
  {
   "cell_type": "code",
   "execution_count": null,
   "metadata": {},
   "outputs": [],
   "source": [
    "# write your code here\n",
    "\n",
    "# trade = Trade(4, 2)\n",
    "# trade.is_buy() >>> True"
   ]
  },
  {
   "cell_type": "markdown",
   "metadata": {},
   "source": [
    "Terry is finding it difficult to read his current `Trade` object, and would like it to display in a nicer format that includes the `volume` and the `price` of the trade. If Terry makes a trade for 10 units at 4 dollars, his trade should look like: `Trade(10 @ $4)`. Modify the `Trade` class to match the display."
   ]
  },
  {
   "cell_type": "code",
   "execution_count": null,
   "metadata": {},
   "outputs": [],
   "source": []
  },
  {
   "cell_type": "markdown",
   "metadata": {},
   "source": [
    "We now need to make Terry's master `TradeTracker` class. A `TradeTracker` will have to keep track of each `Trade` that Terry inputs into it. It should have the following methods (at least):\n",
    "\n",
    "* `add_trade` which takes a `Trade` object and stores it in the tracker\n",
    "* `get_buy_trades` which returns a `List` of all stored `buy` trades\n",
    "* `get_average_traded_price` which returns the average price of all stored trades"
   ]
  },
  {
   "cell_type": "code",
   "execution_count": 3,
   "metadata": {},
   "outputs": [],
   "source": [
    "# write your code here\n",
    "\n",
    "# tracker = TradeTracker()\n",
    "# tracker.add_trade(Trade(7, 4))\n",
    "# tracker.add_trade(Trade(10, -3))\n",
    "# tracker.get_buy_trades() >>> [Trade(4 @ $7)]\n",
    "# tracker.get_average_traded_price() >>> 8.5"
   ]
  },
  {
   "cell_type": "markdown",
   "metadata": {},
   "source": [
    "# Libraries\n",
    "\n",
    "Python has libraries, which are collections of functions and tools created by others, to help automate tasks.\n",
    "\n",
    "**Scenario:** Terry has learned some Python but now needs help to handle more complex data for his trading operations.\n",
    "\n",
    "Write a Python script that:\n",
    "\n",
    "* Imports the math library.\n",
    "* Uses the sqrt function to calculate the square root of a given number.\n",
    "* Imports the datetime library and prints the current date and time."
   ]
  },
  {
   "cell_type": "code",
   "execution_count": null,
   "metadata": {},
   "outputs": [],
   "source": []
  },
  {
   "cell_type": "markdown",
   "metadata": {},
   "source": [
    "## Pandas!\n",
    "\n",
    "**pandas** is a fast, powerful, flexible and easy to use open source data analysis and manipulation tool,\n",
    "built on top of the Python programming language.\n",
    "\n",
    "**Exercise 1: Creating a DataFrame**\n",
    "\n",
    "Terry just received a shipment report from a banana supplier. The report contains the following information: date of delivery, number of bananas, and the price per banana. Create a pandas DataFrame to represent this data. Make up your own data to include in the report... the point is just to print out a working DataFrame!"
   ]
  },
  {
   "cell_type": "code",
   "execution_count": 3,
   "metadata": {},
   "outputs": [],
   "source": [
    "import pandas as pd"
   ]
  },
  {
   "cell_type": "markdown",
   "metadata": {},
   "source": [
    "**Exercise 2: Selecting Data**\n",
    "\n",
    "Terry only wants to know how many bananas were delivered on 2024-10-02 (or any date that you included in your data). Help him extract this information."
   ]
  },
  {
   "cell_type": "code",
   "execution_count": null,
   "metadata": {},
   "outputs": [],
   "source": []
  },
  {
   "cell_type": "markdown",
   "metadata": {},
   "source": [
    "**Exercise 3: Cleaning Data**\n",
    "\n",
    "Terry’s report had some missing or incorrect entries. Replace missing values with reasonable defaults and remove rows with negative banana counts."
   ]
  },
  {
   "cell_type": "code",
   "execution_count": 1,
   "metadata": {},
   "outputs": [],
   "source": [
    "data_with_missing = {\n",
    "    'Date': ['2024-10-01', '2024-10-02', '2024-10-03', '2024-10-04'],\n",
    "    'Bananas': [500, 600, None, -50],\n",
    "    'Price': [0.5, 0.55, 0.52, 0.45]\n",
    "}\n",
    "\n",
    "# Create a new dataframe called df_with_missing and fill missing values and remove negative rows"
   ]
  },
  {
   "cell_type": "markdown",
   "metadata": {},
   "source": [
    "There are many scenarios where removing rows with any NULL information would be a bad idea. This exercise just shows one way to deal with bad data.\n",
    "\n",
    "**Exercise 4: Aggregating Data**\n",
    "\n",
    "By “group by” we are referring to a process involving one or more of the following steps:\n",
    "\n",
    "* Splitting the data into groups based on some criteria\n",
    "* Applying a function to each group independently\n",
    "* Combining the results into a data structure\n",
    "\n",
    "*Use `df.groupby()`*\n",
    "\n",
    "Terry wants to know the total number of bananas delivered for each price level. Help him by grouping the data by price and summing the banana counts."
   ]
  },
  {
   "cell_type": "code",
   "execution_count": null,
   "metadata": {},
   "outputs": [],
   "source": []
  },
  {
   "cell_type": "markdown",
   "metadata": {},
   "source": [
    "**Exercise 5: Merging Supplier Data**\n",
    "\n",
    "Terry is working with two suppliers. You have data from both suppliers, but they are in different DataFrames. Use `pd.merge()` to merge them to get a full picture."
   ]
  },
  {
   "cell_type": "code",
   "execution_count": 4,
   "metadata": {},
   "outputs": [],
   "source": [
    "supplier_a = pd.DataFrame({\n",
    "    'Date': ['2024-10-01', '2024-10-02', '2024-10-03'],\n",
    "    'Bananas': [500, 600, 700]\n",
    "})\n",
    "\n",
    "supplier_b = pd.DataFrame({\n",
    "    'Date': ['2024-10-01', '2024-10-02', '2024-10-03'],\n",
    "    'Bananas': [200, 300, 400]\n",
    "})\n",
    "\n",
    "# Merge the two DataFrames on 'Date'"
   ]
  },
  {
   "cell_type": "markdown",
   "metadata": {},
   "source": [
    "**Exercise 6: Visualizing Banana Prices**\n",
    "\n",
    "Create a line plot to visualize how the price of bananas changed over time.\n",
    "\n",
    "*Hint: Use `matplotlib` to create a plot using your dataframe!*"
   ]
  },
  {
   "cell_type": "code",
   "execution_count": 5,
   "metadata": {},
   "outputs": [],
   "source": [
    "import matplotlib.pyplot as plt"
   ]
  },
  {
   "cell_type": "markdown",
   "metadata": {},
   "source": [
    "## yfinance\n",
    "\n",
    "Yfinance is a free, open-source Python library that provides access to financial data from Yahoo Finance. It allows users to write simple Python commands and pull a wide range of financial data, like stock ticker data, options, fundamental financials, and much more, into a notebook, spreadsheet, or development environment.\n",
    "\n",
    "**Exercise 1: Getting Tesla Stock Data**\n",
    "\n",
    "Fetch the stock data for Tesla over the past month."
   ]
  },
  {
   "cell_type": "code",
   "execution_count": 6,
   "metadata": {},
   "outputs": [],
   "source": [
    "import yfinance as yf"
   ]
  },
  {
   "cell_type": "markdown",
   "metadata": {},
   "source": [
    "The yfinance library itself actually uses other python libraries in its own code to handle data requests. For example, the `.history()` method that we just called for TSLA returns a pandas `DataFrame` object. Using our knowledge of Pandas and DataFrames, let's look at the next problem:\n",
    "\n",
    "**Exercise 2: Stock Price Analysis**\n",
    "\n",
    "What was the highest closing price for Tesla in the past month?"
   ]
  },
  {
   "cell_type": "code",
   "execution_count": null,
   "metadata": {},
   "outputs": [],
   "source": []
  },
  {
   "cell_type": "markdown",
   "metadata": {},
   "source": [
    "**Exercise 3: Visualizing Tesla’s Stock Prices**\n",
    "\n",
    "Plot the closing prices of Tesla’s stock over the past month."
   ]
  },
  {
   "cell_type": "code",
   "execution_count": null,
   "metadata": {},
   "outputs": [],
   "source": []
  },
  {
   "cell_type": "markdown",
   "metadata": {},
   "source": [
    "**Exercise 4: Comparing Stock Prices**\n",
    "\n",
    "Fetch the stock data for Tesla, Apple, and Amazon, and compare their performance over the past month."
   ]
  },
  {
   "cell_type": "code",
   "execution_count": null,
   "metadata": {},
   "outputs": [],
   "source": []
  },
  {
   "cell_type": "markdown",
   "metadata": {},
   "source": [
    "* `.history()` is tied to a single stock (Ticker object).\n",
    "* `.download()` is more flexible for fetching data for multiple stocks at once.\n",
    "* Both return similar historical data (OHLC and volume), but `.download()` is more efficient for bulk data retrieval.\n",
    "\n",
    "**Exercise: Calulate Moving Averages**\n",
    "\n",
    "Calculate the 7-day moving average for Tesla’s stock prices."
   ]
  },
  {
   "cell_type": "code",
   "execution_count": null,
   "metadata": {},
   "outputs": [],
   "source": []
  },
  {
   "cell_type": "markdown",
   "metadata": {},
   "source": [
    "**Exercise 2: Stock Analysis and Report Generation**\n",
    "\n",
    "Fetch stock data for Tesla, Apple, and Amazon for the past 3 months. Calculate the average closing price, the highest closing price, and the total trading volume for each stock.\n",
    "\n",
    "*Hint: research how to use `.agg()`*"
   ]
  },
  {
   "cell_type": "code",
   "execution_count": null,
   "metadata": {},
   "outputs": [],
   "source": []
  },
  {
   "cell_type": "markdown",
   "metadata": {},
   "source": [
    "At this point, you are not expected to be able to perform all of pandas functions from memory. There is a LOT more functionality to all of these libraries, these are just very common operations that you will get more comfortable using after calling them time and time again in future projects.\n",
    "\n",
    "A good place to be at this point is to recognize what a library is, how to call its functions, use its datatypes/classes, and specifically, what a DataFrame is and how it is used in combination with other libraries."
   ]
  }
 ],
 "metadata": {
  "kernelspec": {
   "display_name": "quant",
   "language": "python",
   "name": "python3"
  },
  "language_info": {
   "codemirror_mode": {
    "name": "ipython",
    "version": 3
   },
   "file_extension": ".py",
   "mimetype": "text/x-python",
   "name": "python",
   "nbconvert_exporter": "python",
   "pygments_lexer": "ipython3",
   "version": "3.11.7"
  }
 },
 "nbformat": 4,
 "nbformat_minor": 2
}
