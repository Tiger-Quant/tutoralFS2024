{
 "cells": [
  {
   "cell_type": "markdown",
   "metadata": {},
   "source": [
    "First things first... variables!\n",
    "\n",
    "* String, characters, ints, floats, boolean, and \"None\"\n",
    "* Assignment vs. Comparator Operators\n",
    "* print()"
   ]
  },
  {
   "cell_type": "markdown",
   "metadata": {},
   "source": [
    "Following IMC Prosperity's Python Tutorials..."
   ]
  },
  {
   "cell_type": "markdown",
   "metadata": {},
   "source": [
    "**Terry's Bananas**\n",
    "\n",
    "\n",
    "Trader Terry is buying bananas at the markets for from some different vendors. Terry thinks a banana is really worht 10 dollars and classifies the price at the different markets into 4 categories:\n",
    "\n",
    "* If the price is less than 10 dollars: `Good`\n",
    "* If the price is less than 6 dollars: `Really Good!`\n",
    "* If the price is 10 dollars or more: `Bad`\n",
    "* If the price is more than 14 dollars: `Really Bad!`\n",
    "\n",
    "Write some python code to help Terry classify a given banana price. Your code should print out the category (and only one category!)"
   ]
  },
  {
   "cell_type": "code",
   "execution_count": null,
   "metadata": {},
   "outputs": [],
   "source": []
  },
  {
   "cell_type": "markdown",
   "metadata": {},
   "source": [
    "After getting scammed by a vendor who only sold bananas at odd prices, Terry has become jaded and suspicious. He will now only consider a price to be `Really Good!` if it also an even number, otherwise he considers it simply `Good`. Similarly, he will also consider odd prices greater than 10 to always be `Really Bad!`. Copy your code from above into the cell below and modify it to help out suspicious Terry."
   ]
  },
  {
   "cell_type": "code",
   "execution_count": null,
   "metadata": {},
   "outputs": [],
   "source": []
  },
  {
   "cell_type": "markdown",
   "metadata": {},
   "source": [
    "**Terry's Bananas - The Repricening**\n",
    "\n",
    "Trader Terry has been working on his pricing algorithm and is back to buy some more bananas. He's simplified his pricing down to 3 categories:\n",
    "\n",
    "* If the price is less than 8 dollars: `Good!`\n",
    "* If the price is more than 12 dollars: `Bad`\n",
    "* Otherwise: `Ok`\n",
    "\n",
    "Write a python function called `classify_price` that accepts one argument (the price of the bananas) and returns the appropriate `str` classification."
   ]
  },
  {
   "cell_type": "code",
   "execution_count": 1,
   "metadata": {},
   "outputs": [],
   "source": [
    "# Write your function here\n",
    "\n",
    "\n",
    "# Test your function with these!\n",
    "# classify_price(7)\n",
    "# classify_price(9)\n",
    "# classify_price(14)"
   ]
  },
  {
   "cell_type": "markdown",
   "metadata": {},
   "source": [
    "Terry has discovered that sometimes he occasionally wants to price bananas with different good and bad price levels (instead of 8 and 12). Modify your function so that you can set different price thresholds but by default, it uses 8 and 12 as the thresholds."
   ]
  },
  {
   "cell_type": "code",
   "execution_count": null,
   "metadata": {},
   "outputs": [],
   "source": []
  },
  {
   "cell_type": "markdown",
   "metadata": {},
   "source": [
    "Terry has received a tip that the vendor selling bananas for 4 dollars at the market today is trying to get rid of his illegally imported, contraband bananas. Terry, wanting no part in these shenanigans, considers this to be `Really Bad!` for his trading.\n",
    "\n",
    "Write a new function which follows the same rules as `classify_price`, but for a price of 4 dollars returns the `str` `Really Bad!`."
   ]
  },
  {
   "cell_type": "code",
   "execution_count": null,
   "metadata": {},
   "outputs": [],
   "source": []
  },
  {
   "cell_type": "markdown",
   "metadata": {},
   "source": [
    "**Terry Stacking**\n",
    "\n",
    "Through his successful trading scheme, Terry now owns many crates of bananas. Due to the peculiar shape of his warehouse, Terry must stack the crates in triangular stacks - with each row containing one less crate than the row below it. For example, if Terry starts his stack with a row of 4 crates, he must then put 3 crates on top of that, then 2, then 1, for a total of 4 + 3 + 2 + 1 = 10 crates.\n",
    "\n",
    "Write a function `stack_total` which takes a singular argument, the number of creates in the bottom row, and calculates the total number of crates in a given Terry-triangle-stack."
   ]
  },
  {
   "cell_type": "code",
   "execution_count": 2,
   "metadata": {},
   "outputs": [],
   "source": [
    "# Write code here\n",
    "\n",
    "# stack_total(4) = 4+3+2+1 = 10\n",
    "# stack_total(6) = 6+5+4+3+2+1 = 21"
   ]
  }
 ],
 "metadata": {
  "kernelspec": {
   "display_name": "quant",
   "language": "python",
   "name": "python3"
  },
  "language_info": {
   "codemirror_mode": {
    "name": "ipython",
    "version": 3
   },
   "file_extension": ".py",
   "mimetype": "text/x-python",
   "name": "python",
   "nbconvert_exporter": "python",
   "pygments_lexer": "ipython3",
   "version": "3.11.7"
  }
 },
 "nbformat": 4,
 "nbformat_minor": 2
}
